{
 "cells": [
  {
   "cell_type": "markdown",
   "metadata": {},
   "source": [
    "# Merging DataFrames with pandas\n",
    "\n",
    "In this chapter, I learn about different techniques you can use to import multiple files into DataFrames. \n",
    "\n",
    "Having imported your data into individual DataFrames, how to share information between DataFrames using their indexes, Understanding how indexes work is essential to merging DataFrames."
   ]
  },
  {
   "cell_type": "markdown",
   "metadata": {},
   "source": [
    "## Exercise\n",
    "### Reindexing using another DataFrame Index\n",
    "Another common technique is to reindex a DataFrame using the Index of another DataFrame. \n",
    "The DataFrame `.reindex()` method can accept the Index of a DataFrame or Series as input. \n",
    "You can access the Index of a DataFrame with its `.index` attribute.\n",
    "\n",
    "The **Baby Names Dataset** from **data.gov** summarizes counts of names (with genders) from births registered in the US since 1881. In this exercise, you will start with two baby-names DataFrames `names_1981` and `names_1881` loaded for you.\n",
    "\n",
    "The DataFrames `names_1981` and `names_1881` both have a MultiIndex with levels `name` and `gender` giving unique labels to counts in each row. If you're interested in seeing how the MultiIndexes were set up, `names_1981` and `names_1881` were read in using the following commands:"
   ]
  },
  {
   "cell_type": "code",
   "execution_count": null,
   "metadata": {},
   "outputs": [],
   "source": [
    "names_1981 = pd.read_csv('names1981.csv', header=None, names=['name','gender','count'], index_col=(0,1))\n",
    "names_1881 = pd.read_csv('names1881.csv', header=None, names=['name','gender','count'], index_col=(0,1))"
   ]
  },
  {
   "cell_type": "markdown",
   "metadata": {},
   "source": [
    "As you can see by looking at their shapes, which have been printed in the IPython Shell, the DataFrame corresponding to 1981 births is much larger, reflecting the greater diversity of names in 1981 as compared to 1881.\n",
    "\n",
    "Your job here is to use the DataFrame ``.reindex()`` and ``.dropna()`` methods to make a DataFrame common_names counting names from 1881 that were still popular in 1981."
   ]
  },
  {
   "cell_type": "markdown",
   "metadata": {},
   "source": [
    "## Instruction\n",
    "- Create a new DataFrame ``common_names`` by reindexing ``names_1981`` using the ``index`` attribute of the DataFrame ``names_1881`` of older names.\n",
    "- Print the shape of the new ``common_names`` DataFrame. This has been done for you. It should be the same as that of ``names_1881``.\n",
    "- Drop the rows of ``common_names`` that have null counts using the ``.dropna()`` method. These rows correspond to names that fell out of fashion between 1881 & 1981.\n",
    "- Print the shape of the reassigned ``common_names`` DataFrame. This has been done for you, so hit 'Submit Answer' to see the result!"
   ]
  },
  {
   "cell_type": "code",
   "execution_count": null,
   "metadata": {},
   "outputs": [],
   "source": [
    "# Import pandas\n",
    "import pandas as pd\n",
    "\n",
    "# Reindex names_1981 with index of names_1881: common_names\n",
    "common_names = names_1981.reindex(names_1881.index)\n",
    "\n",
    "# Print shape of common_names\n",
    "print(common_names.shape)\n",
    "\n",
    "# Drop rows with null counts: common_names\n",
    "common_names = common_names.dropna()\n",
    "\n",
    "# Print shape of new common_names\n",
    "print(common_names.shape)"
   ]
  },
  {
   "cell_type": "markdown",
   "metadata": {},
   "source": [
    "# Arithmetic with Series & DataFrames\n",
    "\n",
    "## Exercise\n",
    "### Adding unaligned DataFrames\n",
    "\n",
    "The DataFrames ``january`` and ``february``, which have been printed in the IPython Shell, represent the sales a company made in the corresponding months.\n",
    "\n",
    "The Indexes in both DataFrames are called ``Company``, identifying which company bought that quantity of units. The column ``Units`` is the number of units sold.\n",
    "\n",
    "If you were to add these two ``DataFrames`` by executing the command ``total = january + february``, how many rows would the resulting DataFrame have? Try this in the IPython Shell and find out for yourself.\n",
    "\n",
    "## Instructions\n",
    "**Possible Answers**\n",
    "\n",
    "- [ ] 3 rows\n",
    "- [ ] 4 rows\n",
    "- [ ] 5 rows\n",
    "- [x] 6 rows\n"
   ]
  },
  {
   "cell_type": "code",
   "execution_count": null,
   "metadata": {},
   "outputs": [],
   "source": [
    "january\n",
    "                  Units\n",
    "Company                \n",
    "Acme Corporation     19\n",
    "Hooli                17\n",
    "Initech              20\n",
    "Mediacore            10\n",
    "Streeplex            13\n",
    "\n",
    "february\n",
    "                  Units\n",
    "Company                \n",
    "Acme Corporation     15\n",
    "Hooli                 3\n",
    "Mediacore            13\n",
    "Vandelay Inc         25"
   ]
  },
  {
   "cell_type": "markdown",
   "metadata": {},
   "source": [
    "# Broadcasting in arithmetic formulas\n",
    "## Exercise\n",
    "\n",
    "In this exercise, you'll work with weather data pulled from **wunderground.com**. The DataFrame ``weather`` has been pre-loaded along with ``panda``s as ``pd``. It has 365 rows (observed each day of the year 2013 in Pittsburgh, PA) and 22 columns reflecting different weather measurements each day.\n",
    "\n",
    "You'll subset a collection of columns related to temperature measurements in degrees Fahrenheit, convert them to degrees Celsius, and relabel the columns of the new DataFrame to reflect the change of units.\n",
    "\n",
    "Remember, ordinary arithmetic operators (like ``+``,``-``, ``*``, and `/`) broadcast scalar values to conforming DataFrames when combining scalars & DataFrames in arithmetic expressions. Broadcasting also works with pandas Series and NumPy arrays."
   ]
  },
  {
   "cell_type": "markdown",
   "metadata": {},
   "source": [
    "## Instructions\n",
    "\n",
    "- Create a new DataFrame `temps_f` by extracting the columns `'Min TemperatureF'`, `'Mean TemperatureF'`, & `'Max TemperatureF'` from `weather` as a new DataFrame `temps_f`. To do this, pass the relevant columns as a list to`weather[]`.\n",
    "- Create a new DataFrame `temps_c` from `temps_f` using the formula `(temps_f - 32) * 5/9`.\n",
    "- Rename the columns of `temps_c` to replace `'F'` with `'C'` using the `.str.replace('F', 'C')` method on `temps_c.columns`.\n",
    "- Print the first 5 rows of DataFrame `temps_c`. This has been done for you, so hit 'Submit Answer' to see the result!"
   ]
  },
  {
   "cell_type": "code",
   "execution_count": null,
   "metadata": {},
   "outputs": [],
   "source": [
    "# Extract selected columns from weather as new DataFrame: temps_f\n",
    "temps_f = weather[['Min TemperatureF', 'Mean TemperatureF', 'Max TemperatureF']]\n",
    "\n",
    "# Convert temps_f to celsius: temps_c\n",
    "temps_c = (temps_f - 32) * 5/9\n",
    "\n",
    "# Rename 'F' in column names with 'C': temps_c.columns\n",
    "temps_c.columns = temps_c.columns.str.replace('F', 'C')\n",
    "\n",
    "# Print first 5 rows of temps_c\n",
    "print(temps_c.head())"
   ]
  },
  {
   "cell_type": "markdown",
   "metadata": {},
   "source": [
    "## Computing percentage growth of GDP\n",
    "\n",
    "### Exercise\n",
    "Your job in this exercise is to compute the yearly percent-change of US GDP (**Gross Domestic Product**) since 2008.\n",
    "\n",
    "The data has been obtained from the **Federal Reserve Bank of St. Louis** and is available in the file `GDP.csv`, which contains quarterly data; you will resample it to annual sampling and then compute the annual growth of GDP. For a refresher on resampling, check out the relevant material from **pandas Foundations**.\n",
    "\n",
    "### Instructions\n",
    "- Read the file `'GDP.csv'` into a DataFrame called `gdp`, using `parse_dates=True` and `index_col='DATE'`.\n",
    "- Create a DataFrame `post2008` by slicing `gdp` such that it comprises all rows from 2008 onward.\n",
    "- Print the last 8 rows of the slice `post2008`. This has been done for you. This data has quarterly frequency so the indices are separated by three-month intervals.\n",
    "- Create the DataFrame `yearly` by resampling the slice `post2008` by year. Remember, you need to chain `.resample()` (using the alias `'A'` for annual frequency) with some kind of aggregation; you will use the aggregation method `.last()` to select the last element when resampling.\n",
    "- Compute the percentage growth of the resampled DataFrame `yearly` with `.pct_change() * 100`."
   ]
  },
  {
   "cell_type": "code",
   "execution_count": null,
   "metadata": {},
   "outputs": [],
   "source": [
    "import pandas as pd\n",
    "\n",
    "# Read 'GDP.csv' into a DataFrame: gdp\n",
    "gdp = pd.read_csv('GDP.csv', index_col='DATE', parse_dates=True)\n",
    "\n",
    "# Slice all the gdp data from 2008 onward: post2008\n",
    "post2008 = gdp.loc['2008':]\n",
    "\n",
    "# Print the last 8 rows of post2008\n",
    "print(post2008.tail(8))\n",
    "\n",
    "# Resample post2008 by year, keeping last(): yearly\n",
    "yearly = post2008.resample('A').last()\n",
    "\n",
    "# Print yearly\n",
    "print(yearly)\n",
    "\n",
    "# Compute percentage growth of yearly: yearly['growth']\n",
    "yearly['growth'] = yearly.pct_change() * 100\n",
    "\n",
    "# Print yearly again\n",
    "print(yearly)"
   ]
  },
  {
   "cell_type": "markdown",
   "metadata": {},
   "source": [
    "## Converting currency of stocks\n",
    "## Exercise\n",
    "In this exercise, stock prices in US Dollars for the S&P 500 in 2015 have been obtained from **Yahoo Finance**. The files `sp500.csv` for sp500 and `exchange.csv` for the exchange rates are both provided to you.\n",
    "\n",
    "Using the daily exchange rate to Pounds Sterling, your task is to convert both the Open and Close column prices.\n",
    "\n",
    "## Instructions\n",
    "- Read the DataFrames `sp500` & `exchange` from the files `'sp500.csv'` & `'exchange.csv'` respectively..\n",
    "- Use `parse_dates=True` and `index_col='Date'`.\n",
    "- Extract the columns `'Open'` & `'Close'` from the DataFrame `sp500` as a new DataFrame `dollars` and print the first 5 rows.\n",
    "- Construct a new DataFrame `pounds` by converting US dollars to British pounds. You'll use the `.multiply()` method of `dollars` with `exchange['GBP/USD']` and `axis='rows'`\n",
    "- Print the first 5 rows of the new DataFrame `pounds`. This has been done for you, so hit 'Submit Answer' to see the results!."
   ]
  },
  {
   "cell_type": "code",
   "execution_count": null,
   "metadata": {},
   "outputs": [],
   "source": [
    "# Import pandas\n",
    "import pandas as pd\n",
    "\n",
    "# Read 'sp500.csv' into a DataFrame: sp500\n",
    "sp500 = pd.read_csv('sp500.csv', index_col='Date', parse_dates=True)\n",
    "\n",
    "# Read 'exchange.csv' into a DataFrame: exchange\n",
    "exchange = pd.read_csv('exchange.csv', index_col='Date', parse_dates=True)\n",
    "\n",
    "# Subset 'Open' & 'Close' columns from sp500: dollars\n",
    "dollars = sp500[['Open', 'Close']]\n",
    "\n",
    "# Print the head of dollars\n",
    "print(dollars.head())\n",
    "\n",
    "# Convert dollars to pounds: pounds\n",
    "pounds = dollars.multiply(exchange['GBP/USD'], axis = 'rows')\n",
    "\n",
    "# Print the head of pounds\n",
    "print(pounds.head())"
   ]
  },
  {
   "cell_type": "code",
   "execution_count": null,
   "metadata": {},
   "outputs": [],
   "source": []
  }
 ],
 "metadata": {
  "kernelspec": {
   "display_name": "Python 3",
   "language": "python",
   "name": "python3"
  },
  "language_info": {
   "codemirror_mode": {
    "name": "ipython",
    "version": 3
   },
   "file_extension": ".py",
   "mimetype": "text/x-python",
   "name": "python",
   "nbconvert_exporter": "python",
   "pygments_lexer": "ipython3",
   "version": "3.7.3"
  }
 },
 "nbformat": 4,
 "nbformat_minor": 2
}
